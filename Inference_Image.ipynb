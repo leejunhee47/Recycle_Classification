{
  "cells": [
    {
      "cell_type": "markdown",
      "metadata": {
        "id": "_WqCnd53Gsg2"
      },
      "source": [
        "추론 실습을 위해 깃헙 저장소를 다운로드합니다."
      ]
    },
    {
      "cell_type": "code",
      "execution_count": null,
      "metadata": {
        "id": "BANnE4zCuFNw"
      },
      "outputs": [],
      "source": [
        "print(\"Download Example Repository\")\n",
        "!git clone https://github.com/jetsonai/DeepLearning4Projects"
      ]
    },
    {
      "cell_type": "code",
      "execution_count": 1,
      "metadata": {
        "id": "j3dH-tYyKdIy"
      },
      "outputs": [],
      "source": [
        "# Colab에서 OpenCV 이미지를 보기 위한 패키지를 불러옵니다.\n",
        "import cv2\n",
        "import numpy as np\n",
        "from google.colab.patches import cv2_imshow"
      ]
    },
    {
      "cell_type": "code",
      "execution_count": null,
      "metadata": {
        "id": "qt36OA2wHykD"
      },
      "outputs": [],
      "source": [
        "%cd /content/DeepLearning4Projects/Chap5\n",
        "# 추론을 위한 클래스를 불러옵니다.\n",
        "from Inference_Cam import Inference_Class\n",
        "\n",
        "# 클래스를 초기화하고 모델을 불러옵니다.\n",
        "inferenceClass = Inference_Class()\n",
        "is_train_from_scratch = False\n",
        "inferenceClass.load_model(is_train_from_scratch)"
      ]
    },
    {
      "cell_type": "code",
      "execution_count": 7,
      "metadata": {
        "id": "cQIM4p2KIFyz"
      },
      "outputs": [],
      "source": [
        "def inference(input_image):\n",
        "    cv_image = []\n",
        "    if isinstance(input_image, str):\n",
        "        cv_image = cv2.imread(input_image, cv2.IMREAD_COLOR)\n",
        "    else:\n",
        "        cv_image = np.copy(input_image)\n",
        "    result_frame, label_text, class_prob = inferenceClass.inference_image(cv_image)\n",
        "    print(\"입력 이미지는 {} % 확률로 {}으로 분류됩니다.\".format((float)(class_prob) * 100, label_text))\n",
        "    cv2_imshow(result_frame)\n",
        "    return result_frame"
      ]
    },
    {
      "cell_type": "markdown",
      "metadata": {
        "id": "XF5K254kNmyH"
      },
      "source": [
        "이미지를 업로드 후 해당 이미지의 경로를 입력합니다."
      ]
    },
    {
      "cell_type": "code",
      "execution_count": null,
      "metadata": {
        "id": "5LIWvXLNLP7p"
      },
      "outputs": [],
      "source": [
        "%cd /content\n",
        "input_image_path = \"/content/DeepLearning4Projects/Chap5/test_image_1.jpg\"\n",
        "#input_image_path = \"/content/DeepLearning4Projects/Chap5/test_image_2.jpg\"\n",
        "result = inference(input_image_path)"
      ]
    },
    {
      "cell_type": "code",
      "execution_count": null,
      "metadata": {
        "id": "MfYZG6PkMHDK"
      },
      "outputs": [],
      "source": []
    }
  ],
  "metadata": {
    "colab": {
      "collapsed_sections": [],
      "name": "Inference_Image.ipynb",
      "provenance": []
    },
    "kernelspec": {
      "display_name": "Python 3",
      "name": "python3"
    },
    "language_info": {
      "name": "python"
    }
  },
  "nbformat": 4,
  "nbformat_minor": 0
}
